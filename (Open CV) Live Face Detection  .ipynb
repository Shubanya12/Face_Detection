{
 "cells": [
  {
   "cell_type": "code",
   "execution_count": 1,
   "metadata": {
    "collapsed": true
   },
   "outputs": [],
   "source": [
    "\n",
    "import cv2\n",
    "\n",
    "# Load Trained cascade classifier ('For load Scaning Picture')\n",
    "face_cascade = cv2.CascadeClassifier('haarcascade_frontalface_default.xml')\n",
    "\n",
    "# Start Web Cam \n",
    "cap =cv2.VideoCapture(1)\n",
    "\n",
    "while True:\n",
    "    \n",
    "    # Read image from web Cam\n",
    "    respose, color_image = cap.read()\n",
    "    \n",
    "\n",
    "# Read the Given Image (For Read Color Image)\n",
    "#color_image =cv2.imread('Rahul.jpeg')\n",
    "    \n",
    "    # Convert color image into grayscale (For change color image into gray image)\n",
    "    gray_image = cv2.cvtColor(color_image, cv2.COLOR_BGR2GRAY)\n",
    "\n",
    "    #Detect face ROI\n",
    "    #Syntax: Classifier.detectMultiScale(input image, Scale Factor, Min Neighbours)\n",
    "    faces = face_cascade.detectMultiScale(gray_image,1.3, 7)\n",
    "\n",
    "    # Draw Reactangle around the Face\n",
    "    for (x,y,w,h) in faces:\n",
    "        cv2.rectangle(color_image,(x,y),(x+w,y+h),(0,0,255),4)\n",
    "    \n",
    "    # For show image\n",
    "    cv2.imshow('Image',color_image)\n",
    "    \n",
    "    if cv2.waitKey(1) & 0xff ==ord('q'):\n",
    "        break\n",
    "\n",
    "# Release the video capture object        \n",
    "cap.release()\n",
    "\n",
    "#wait to closed window\n",
    "#cv2.waitKey()\n",
    "\n",
    "#Closed all window\n",
    "cv2.destroyAllWindows()\n",
    "\n"
   ]
  },
  {
   "cell_type": "code",
   "execution_count": null,
   "metadata": {
    "collapsed": true
   },
   "outputs": [],
   "source": []
  },
  {
   "cell_type": "markdown",
   "metadata": {},
   "source": [
    "# Eye's Detection Application\n"
   ]
  },
  {
   "cell_type": "code",
   "execution_count": 4,
   "metadata": {
    "collapsed": true
   },
   "outputs": [],
   "source": [
    "\n",
    "import cv2\n",
    "\n",
    "# Load Trained cascade classifier ('For load Scaning Picture')\n",
    "eye_cascade = cv2.CascadeClassifier('haarcascade_eye.xml')\n",
    "face_cascade = cv2.CascadeClassifier('haarcascade_frontalface_default.xml')\n",
    "\n",
    "# Start Web Cam \n",
    "cap =cv2.VideoCapture(1)\n",
    "\n",
    "while True:\n",
    "    \n",
    "    # Read image from web Cam\n",
    "    respose, color_image = cap.read()\n",
    "    \n",
    "\n",
    "# Read the Given Image (For Read Color Image)\n",
    "#color_image =cv2.imread('Rahul.jpeg')\n",
    "    \n",
    "    # Convert color image into grayscale (For change color image into gray image)\n",
    "    gray_image = cv2.cvtColor(color_image, cv2.COLOR_BGR2GRAY)\n",
    "\n",
    "    #Detect face ROI\n",
    "    #Syntax: Classifier.detectMultiScale(input image, Scale Factor, Min Neighbours)\n",
    "  #  faces = face_cascade.detectMultiScale(gray_image,1.2, 8)\n",
    "    eyes = eye_cascade.detectMultiScale(gray_image,1.3, 7)\n",
    "\n",
    "    # Draw Reactangle around the Face\n",
    "    for (x,y,w,h) in faces:\n",
    "        cv2.rectangle(color_image,(x,y),(x+w,y+h),(255,0,0),4)\n",
    "        \n",
    "    for (x,y,w,h) in eyes:\n",
    "        cv2.rectangle(color_image,(x,y),(x+w,y+h),(0,255,0),6)\n",
    "    \n",
    "    # For show image\n",
    "    cv2.imshow('Image',color_image)\n",
    "    \n",
    "    if cv2.waitKey(1) & 0xff ==ord('q'):\n",
    "        break\n",
    "\n",
    "# Release the video capture object        \n",
    "cap.release()\n",
    "\n",
    "#wait to closed window\n",
    "#cv2.waitKey()\n",
    "\n",
    "#Closed all window\n",
    "cv2.destroyAllWindows()\n",
    "\n"
   ]
  }
 ],
 "metadata": {
  "kernelspec": {
   "display_name": "Python 3",
   "language": "python",
   "name": "python3"
  },
  "language_info": {
   "codemirror_mode": {
    "name": "ipython",
    "version": 3
   },
   "file_extension": ".py",
   "mimetype": "text/x-python",
   "name": "python",
   "nbconvert_exporter": "python",
   "pygments_lexer": "ipython3",
   "version": "3.6.3"
  }
 },
 "nbformat": 4,
 "nbformat_minor": 5
}
